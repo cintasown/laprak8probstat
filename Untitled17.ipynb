{
 "cells": [
  {
   "cell_type": "code",
   "execution_count": 2,
   "id": "9fca4f95-c5a5-486d-bf7f-49ade85f1cc5",
   "metadata": {},
   "outputs": [
    {
     "name": "stdout",
     "output_type": "stream",
     "text": [
      "Proporsi Sampel (p̂)        = 0.760\n",
      "Z Kritis                    = 1.960\n",
      "Margin of Error            = 0.068\n",
      "Confidence Interval 95%    = (0.692, 0.828)\n"
     ]
    }
   ],
   "source": [
    "# Muhammad Fadhil Ramadhan - 064102400010\n",
    "import math\n",
    "from scipy.stats import norm\n",
    "\n",
    "# Data\n",
    "n = 150                   # jumlah responden\n",
    "x = 114                  # jumlah puas\n",
    "p_hat = x / n            # proporsi sampel\n",
    "\n",
    "confidence = 0.95\n",
    "alpha = 1 - confidence\n",
    "\n",
    "# Z-score (z kritis) untuk confidence level 95%\n",
    "z = norm.ppf(1 - alpha/2)\n",
    "\n",
    "# Margin of Error\n",
    "ME = z * math.sqrt(p_hat * (1 - p_hat) / n)\n",
    "\n",
    "# Confidence Interval\n",
    "lower = p_hat - ME\n",
    "upper = p_hat + ME\n",
    "\n",
    "# Output\n",
    "print(f\"Proporsi Sampel (p̂)        = {p_hat:.3f}\")\n",
    "print(f\"Z Kritis                    = {z:.3f}\")\n",
    "print(f\"Margin of Error            = {ME:.3f}\")\n",
    "print(f\"Confidence Interval 95%    = ({lower:.3f}, {upper:.3f})\")\n"
   ]
  },
  {
   "cell_type": "code",
   "execution_count": null,
   "id": "41895468-3731-42e9-b74d-c61d230978fe",
   "metadata": {},
   "outputs": [],
   "source": []
  }
 ],
 "metadata": {
  "kernelspec": {
   "display_name": "Python [conda env:base] *",
   "language": "python",
   "name": "conda-base-py"
  },
  "language_info": {
   "codemirror_mode": {
    "name": "ipython",
    "version": 3
   },
   "file_extension": ".py",
   "mimetype": "text/x-python",
   "name": "python",
   "nbconvert_exporter": "python",
   "pygments_lexer": "ipython3",
   "version": "3.12.7"
  }
 },
 "nbformat": 4,
 "nbformat_minor": 5
}
